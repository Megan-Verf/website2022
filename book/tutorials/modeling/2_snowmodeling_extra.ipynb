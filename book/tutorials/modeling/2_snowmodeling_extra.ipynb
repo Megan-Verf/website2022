{
 "cells": [
  {
   "cell_type": "markdown",
   "id": "buried-haiti",
   "metadata": {},
   "source": [
    "# Interactive Data Exploration\n",
    "\n",
    "This notebook demonstrates how the functions and techniques we covered in the first notebook can be combined to build interactive data exploration tools. The panel enables exploration of LIS output using an interactive map.\n",
    "\n",
    "**Note: some cells below take several minutes to run and some aspects of the interactive widgets may not work in the rendered version on the Hackweek site.**"
   ]
  },
  {
   "cell_type": "markdown",
   "id": "through-pendant",
   "metadata": {},
   "source": [
    "## Import Libraries"
   ]
  },
  {
   "cell_type": "code",
   "execution_count": null,
   "id": "ordered-transformation",
   "metadata": {},
   "outputs": [],
   "source": [
    "import numpy as np\n",
    "import pandas as pd\n",
    "import geopandas\n",
    "import xarray as xr\n",
    "import fsspec\n",
    "import s3fs\n",
    "from datetime import datetime as dt\n",
    "from scipy.spatial import distance\n",
    "\n",
    "import holoviews as hv, geoviews as gv\n",
    "from geoviews import opts\n",
    "from geoviews import tile_sources as gvts\n",
    "\n",
    "from datashader.colors import viridis\n",
    "import datashader\n",
    "from holoviews.operation.datashader import datashade, shade, dynspread, spread, rasterize\n",
    "\n",
    "from holoviews.streams import Selection1D, Params\n",
    "import panel as pn\n",
    "import param as pm\n",
    "import hvplot.pandas \n",
    "import hvplot.xarray\n",
    "import warnings\n",
    "import holoviews.operation.datashader as hd\n",
    "warnings.filterwarnings(\"ignore\")"
   ]
  },
  {
   "cell_type": "code",
   "execution_count": null,
   "id": "provincial-technician",
   "metadata": {},
   "outputs": [],
   "source": [
    "pn.extension()\n",
    "pn.param.ParamMethod.loading_indicator =True"
   ]
  },
  {
   "cell_type": "code",
   "execution_count": null,
   "id": "fifteen-movement",
   "metadata": {},
   "outputs": [],
   "source": [
    "# create S3 filesystem object\n",
    "s3 = s3fs.S3FileSystem()\n",
    "\n",
    "# define S3 bucket name\n",
    "bucket = \"s3://eis-dh-hydro/SNOWEX-HACKWEEK\"\n",
    "\n",
    "# set holoviews backend to Bokeh\n",
    "gv.extension('bokeh')"
   ]
  },
  {
   "cell_type": "markdown",
   "id": "supported-confidence",
   "metadata": {},
   "source": [
    "## Load Data"
   ]
  },
  {
   "cell_type": "markdown",
   "id": "static-convenience",
   "metadata": {},
   "source": [
    "### SNOTEL Sites info"
   ]
  },
  {
   "cell_type": "code",
   "execution_count": null,
   "id": "regulated-telephone",
   "metadata": {},
   "outputs": [],
   "source": [
    "# create dictionary linking state names and abbreviations\n",
    "snotel = {\"AZ\" : \"arizona\",\n",
    "          \"CO\" : \"colorado\",\n",
    "          \"ID\" : \"idaho\",\n",
    "          \"MT\" : \"montana\", \n",
    "          \"NM\" : \"newmexico\",\n",
    "          \"UT\" : \"utah\",\n",
    "          \"WY\" : \"wyoming\"}"
   ]
  },
  {
   "cell_type": "code",
   "execution_count": null,
   "id": "pursuant-athens",
   "metadata": {},
   "outputs": [],
   "source": [
    "# load SNOTEL site metadata for sites in the given state\n",
    "def load_site(state):\n",
    "    \n",
    "    # define path to file\n",
    "    key = f\"SNOTEL/snotel_{state}.csv\"\n",
    "    \n",
    "    # load csv into pandas DataFrame\n",
    "    df = pd.read_csv(s3.open(f'{bucket}/{key}', mode='r'))\n",
    "    \n",
    "    return df "
   ]
  },
  {
   "cell_type": "markdown",
   "id": "exempt-direction",
   "metadata": {},
   "source": [
    "### SNOTEL Depth & SWE"
   ]
  },
  {
   "cell_type": "code",
   "execution_count": null,
   "id": "tender-brief",
   "metadata": {},
   "outputs": [],
   "source": [
    "def load_snotel_txt(state, var):\n",
    "    \n",
    "    # define path to file\n",
    "    key = f\"SNOTEL/snotel_{state}{var}_20162020.txt\"\n",
    "\n",
    "    # open text file\n",
    "    fh = s3.open(f\"{bucket}/{key}\")\n",
    "    \n",
    "    # read each line and note those that begin with '#'\n",
    "    lines = fh.readlines()\n",
    "    skips = sum(1 for ln in lines if ln.decode('ascii').startswith('#'))\n",
    "    \n",
    "    # load txt file into pandas DataFrame (skipping lines beginning with '#')\n",
    "    df = pd.read_csv(s3.open(f\"{bucket}/{key}\"), skiprows=skips)\n",
    "    \n",
    "    # convert Date column from str to pandas datetime objects\n",
    "    df['Date'] = pd.to_datetime(df['Date'])\n",
    "    return df"
   ]
  },
  {
   "cell_type": "code",
   "execution_count": null,
   "id": "efficient-patrick",
   "metadata": {},
   "outputs": [],
   "source": [
    "# load SNOTEL depth & swe into dictionaries\n",
    "\n",
    "# define empty dicts\n",
    "snotel_depth = {}\n",
    "snotel_swe = {}\n",
    "\n",
    "# loop over states and load SNOTEL data\n",
    "for state in snotel.keys():\n",
    "    print(f\"Loading state {state}\")\n",
    "    snotel_depth[state] = load_snotel_txt(state, 'depth')\n",
    "    snotel_swe[state] = load_snotel_txt(state, 'swe')"
   ]
  },
  {
   "cell_type": "markdown",
   "id": "skilled-moscow",
   "metadata": {},
   "source": [
    "### SNODAS Depth & SWE\n",
    "\n",
    "Like the LIS output we have been working with, a sample of SNODAS data is available on our S3 bucket in Zarr format. We can therefore load the SNODAS just as we load the LIS data."
   ]
  },
  {
   "cell_type": "code",
   "execution_count": null,
   "id": "sufficient-judge",
   "metadata": {},
   "outputs": [],
   "source": [
    "# load snodas depth data\n",
    "key = \"SNODAS/snodas_snowdepth_20161001_20200930.zarr\"\n",
    "snodas_depth = xr.open_zarr(s3.get_mapper(f\"{bucket}/{key}\"), consolidated=True)\n",
    "\n",
    "# load snodas swe data\n",
    "key = \"SNODAS/snodas_swe_20161001_20200930.zarr\"\n",
    "snodas_swe = xr.open_zarr(s3.get_mapper(f\"{bucket}/{key}\"), consolidated=True)"
   ]
  },
  {
   "cell_type": "markdown",
   "id": "functional-validity",
   "metadata": {},
   "source": [
    "### LIS Outputs\n",
    "\n",
    "Next we'll load the LIS outputs. First, we'll define the helper function we saw in the previous notebook that adds `lat` and `lon` as coordinate variables. We'll use this immediately upon loading the data."
   ]
  },
  {
   "cell_type": "code",
   "execution_count": null,
   "id": "honest-cornwall",
   "metadata": {},
   "outputs": [],
   "source": [
    "def add_latlon_coords(dataset: xr.Dataset)->xr.Dataset:\n",
    "    \"\"\"Adds lat/lon as dimensions and coordinates to an xarray.Dataset object.\"\"\"\n",
    "    \n",
    "    # get attributes from dataset\n",
    "    attrs = dataset.attrs\n",
    "    \n",
    "    # get x, y resolutions\n",
    "    dx = .001 #round(float(attrs['DX']), 3)\n",
    "    dy = .001 #round(float(attrs['DY']), 3)\n",
    "   \n",
    "    \n",
    "    # get grid cells in x, y dimensions\n",
    "    ew_len = len(dataset['east_west'])\n",
    "    ns_len = len(dataset['north_south'])\n",
    "    #ew_len = len(dataset['lon'])\n",
    "    #ns_len = len(dataset['lat'])\n",
    "    \n",
    "    # get lower-left lat and lon\n",
    "    ll_lat = round(float(attrs['SOUTH_WEST_CORNER_LAT']), 3)\n",
    "    ll_lon = round(float(attrs['SOUTH_WEST_CORNER_LON']), 3)\n",
    "    \n",
    "    # calculate upper-right lat and lon\n",
    "    ur_lat =  41.5122 #ll_lat + (dy * ns_len)\n",
    "    ur_lon = -103.9831 #ll_lon + (dx * ew_len)\n",
    "    \n",
    "    # define the new coordinates\n",
    "    coords = {\n",
    "        # create an arrays containing the lat/lon at each gridcell\n",
    "        'lat': np.linspace(ll_lat, ur_lat, ns_len, dtype=np.float32, endpoint=False).round(4),\n",
    "        'lon': np.linspace(ll_lon, ur_lon, ew_len, dtype=np.float32, endpoint=False).round(4)\n",
    "    }\n",
    "    \n",
    "    lon_attrs = dataset.lon.attrs\n",
    "    lat_attrs = dataset.lat.attrs\n",
    "    \n",
    "    # rename the original lat and lon variables\n",
    "    dataset = dataset.rename({'lon':'orig_lon', 'lat':'orig_lat'})\n",
    "    # rename the grid dimensions to lat and lon\n",
    "    dataset = dataset.rename({'north_south': 'lat', 'east_west': 'lon'})\n",
    "    # assign the coords above as coordinates\n",
    "    dataset = dataset.assign_coords(coords)\n",
    "    dataset.lon.attrs = lon_attrs\n",
    "    dataset.lat.attrs = lat_attrs\n",
    "    \n",
    "    \n",
    "    return dataset"
   ]
  },
  {
   "cell_type": "markdown",
   "id": "noticed-quarter",
   "metadata": {},
   "source": [
    "Load the LIS data and apply `add_latlon_coords()`:"
   ]
  },
  {
   "cell_type": "code",
   "execution_count": null,
   "id": "forty-basic",
   "metadata": {
    "tags": []
   },
   "outputs": [],
   "source": [
    "# LIS surfacemodel DA_10km\n",
    "#key = \"2022/ZARR/SURFACEMODEL/LIS_HIST_default_chunks.d01.zarr\"\n",
    "key = \"2022/ZARR/SURFACEMODEL/LIS_HIST_rechunkedV4.d01.zarr\"\n",
    "s3_mapper = s3.get_mapper(f\"{bucket}/{key}\")\n",
    "lis_sf = xr.open_zarr(s3_mapper, consolidated=True)\n",
    "lis_sf = add_latlon_coords(lis_sf)\n",
    "drop_vars = ['orig_lat', 'orig_lon']\n",
    "lis_sf = lis_sf.drop(drop_vars)"
   ]
  },
  {
   "cell_type": "markdown",
   "id": "relevant-consumption",
   "metadata": {},
   "source": [
    "Working with the full LIS output dataset can be slow and consume lots of memory. Here we temporally subset the data to a shorter window of time. The full dataset contains daily values from 09/02/2016 to 4/22/2021. Feel free to explore the full dataset by modifying the `time_range` variable below and re-running all cells that follow."
   ]
  },
  {
   "cell_type": "code",
   "execution_count": null,
   "id": "enhanced-absolute",
   "metadata": {},
   "outputs": [],
   "source": [
    "# subset LIS data for winter 2020 \n",
    "time_range = slice('2019-10-01', '2020-04-30')\n",
    "lis_sf = lis_sf.sel(time=time_range)"
   ]
  },
  {
   "cell_type": "markdown",
   "id": "incorporated-meditation",
   "metadata": {},
   "source": [
    "In the next cell, we extract the data variable names and timesteps from the LIS outputs. These will be used to define the widget options."
   ]
  },
  {
   "cell_type": "code",
   "execution_count": null,
   "id": "egyptian-figure",
   "metadata": {},
   "outputs": [],
   "source": [
    "# gather metadata from LIS\n",
    "\n",
    "# get variable names:string\n",
    "vnames = list(lis_sf.data_vars)\n",
    "print(vnames)\n",
    "\n",
    "# get time-stamps:string\n",
    "tstamps = list(np.datetime_as_string(lis_sf.time.values, 'D'))\n",
    "print(len(tstamps), tstamps[0], tstamps[-1])"
   ]
  },
  {
   "cell_type": "markdown",
   "id": "immune-deadline",
   "metadata": {},
   "source": [
    "By default, the `holoviews` plotting library automatically adjusts the range of plot colorbars based on the range of values in the data being plotted. This may not be ideal when comparing data on different timesteps. In the next cell we assign the upper and lower bounds for each data variable which we'll later use to set a static colorbar range."
   ]
  },
  {
   "cell_type": "code",
   "execution_count": null,
   "id": "danish-snake",
   "metadata": {},
   "outputs": [],
   "source": [
    "cmap_lims = {'SM_SWE_inst': (-1.3111445262836696e-10, 3.0499227046966553),\n",
    " 'SM_SnowDensity_inst': (99.99999237060547, 550.0),\n",
    " 'SM_SnowDepth_inst': (-1.0889861234986142e-09, 6.424593448638916)}"
   ]
  },
  {
   "cell_type": "code",
   "execution_count": null,
   "id": "pointed-blame",
   "metadata": {},
   "outputs": [],
   "source": [
    "cmap_lims"
   ]
  },
  {
   "cell_type": "markdown",
   "id": "right-motor",
   "metadata": {},
   "source": [
    "## Interactive widget to explore model output\n",
    "\n",
    "The cell below creates a `panel` layout for exploring LIS output rasters. Select a variable using the drop down and then use the date slider to scrub back and forth in time!"
   ]
  },
  {
   "cell_type": "code",
   "execution_count": null,
   "id": "biblical-assault",
   "metadata": {},
   "outputs": [],
   "source": [
    "%%time\n",
    "# start and end dates\n",
    "start_date = '2020-01-01'\n",
    "end_date = '2020-01-07'\n",
    "\n",
    "date_fmt = '%Y-%m-%d'\n",
    "b = dt.strptime(start_date, date_fmt)\n",
    "e = dt.strptime(end_date, date_fmt)\n",
    "\n",
    "lis_sub = lis_sf.sel(time=slice(start_date, end_date)).load()"
   ]
  },
  {
   "cell_type": "code",
   "execution_count": null,
   "id": "unlimited-slope",
   "metadata": {},
   "outputs": [],
   "source": [
    "# date widget (slider & key in)\n",
    "# define date widgets\n",
    "date_slider = pn.widgets.DateSlider(start=b, end=e, value=b, name=\"LIS Model Date\")\n",
    "dt_input = pn.widgets.DatetimeInput(name='LIS Model Date Input', value=b, format=date_fmt)\n",
    "date_stream = Params(date_slider, ['value'], rename={'value':'date'})\n",
    "\n",
    "# variable widget\n",
    "var_select = pn.widgets.Select(options=vnames, name=\"LIS Variable List\")\n",
    "var_stream = Params(var_select, ['value'], rename={'value':'vname'})\n",
    "\n",
    "#colorbar widget\n",
    "color_bar_range = pn.widgets.RangeSlider(name=\"Color Bar Range\", start=0, end=1, value=(0., 1.), step=0.01)\n",
    "cbar_strem = Params(color_bar_range, ['value'], rname={'value':'clim'})\n",
    "\n",
    "\n",
    "# base map widget\n",
    "map_layer= pn.widgets.RadioButtonGroup(\n",
    "    name='Base map layer',\n",
    "    options=['Open Street Map', 'Satellite Imagery'],\n",
    "    value='Satellite Imagery',\n",
    "    button_type='primary',\n",
    "    background='#f307eb')\n",
    "\n",
    "# lis output display callback function\n",
    "# returns plot of LIS output when date/variable is changed\n",
    "def var_layer(vname, date, clim):\n",
    "    t_stamp = dt.strftime(date, '%Y-%m-%d')\n",
    "    dssm = lis_sub[vname].sel(time=t_stamp)\n",
    "\n",
    "    image = dssm.hvplot(geo=True)\n",
    "    #clim = cmap_lims[vname]\n",
    "    return image.opts(clim=clim)\n",
    "\n",
    "# watches date widget for updates\n",
    "@pn.depends(dt_input.param.value, watch=True)\n",
    "def _update_date(dt_input):\n",
    "    date_slider.value=dt_input\n",
    "\n",
    "@pn.depends(var_select.param.value, watch=True)\n",
    "def _update_range(var_select):\n",
    "    vname=var_select\n",
    "    t=cmap_lims[vname]\n",
    "    color_bar_range.start=t[0]\n",
    "    color_bar_range.end=t[1]\n",
    "    color_bar_range.value=t\n",
    "    \n",
    "# updates basemap on widget change\n",
    "def update_map(maps):\n",
    "    tile = gvts.OSM if maps=='Open Street Map' else gvts.EsriImagery\n",
    "    return tile.opts(alpha=0.7)\n",
    "\n",
    "# link widgets to callback functions\n",
    "streams = dict(vname=var_select.param.value, date=date_slider.param.value, clim=color_bar_range.param.value)        \n",
    "dmap = hv.DynamicMap(var_layer, streams=streams)\n",
    "dtile = hv.DynamicMap(update_map, streams=dict(maps=map_layer.param.value))\n",
    "\n",
    "# create panel layout of widgets and plot\n",
    "pn.Column(var_select, date_slider, dt_input, map_layer,color_bar_range,\n",
    "          dtile*rasterize(dmap, aggregator=datashader.mean()).opts(cmap=viridis,colorbar=True,width=800, height=600))\n"
   ]
  },
  {
   "cell_type": "markdown",
   "id": "wooden-tampa",
   "metadata": {},
   "source": [
    "Thank you for joining us for this tutorial. We hope that you are now more familiar with [NASA's Land Information System](https://lis.gsfc.nasa.gov/) and how to use Python to explore and use the model simulation output LIS generates. For more information please see the links under More information below"
   ]
  },
  {
   "cell_type": "markdown",
   "id": "placed-newfoundland",
   "metadata": {},
   "source": [
    "## More Information\n",
    "\n",
    "**Links**\n",
    "\n",
    "* [LIS Website](https://lis.gsfc.nasa.gov/)\n",
    "* [LIS on GitHub](https://github.com/NASA-LIS/LISF)\n",
    "* [LIS Documentation](https://github.com/NASA-LIS/LISF/blob/master/docs/)\n",
    "* [LIS Test Case Walkthrough](https://github.com/bmcandr/lis-public-tc-walkthrough)\n",
    "\n",
    "**References**\n",
    "\n",
    "* Kumar, S.V., C.D. Peters-Lidard, Y. Tian, P.R. Houser, J. Geiger, S. Olden, L. Lighty, J.L. Eastman, B. Doty, P. Dirmeyer, J. Adams, K. Mitchell, E. F. Wood, and J. Sheffield, 2006: Land Information System - An interoperable framework for high resolution land surface modeling. Environ. Modeling & Software, 21, 1402-1415, [doi:10.1016/j.envsoft.2005.07.004](https://doi.org/10.1016/j.envsoft.2005.07.004)\n",
    "\n",
    "* Peters-Lidard, C.D., P.R. Houser, Y. Tian, S.V. Kumar, J. Geiger, S. Olden, L. Lighty, B. Doty, P. Dirmeyer, J. Adams, K. Mitchell, E.F. Wood, and J. Sheffield, 2007: High-performance Earth system modeling with NASA/GSFC's Land Information System. Innovations in Systems and Software Engineering, 3(3), 157-165, [doi:10.1007/s11334-007-0028-x](https://doi.org/10.1007/s11334-007-0028-x)\n",
    "```"
   ]
  },
  {
   "cell_type": "code",
   "execution_count": null,
   "id": "returning-equality",
   "metadata": {},
   "outputs": [],
   "source": []
  }
 ],
 "metadata": {
  "kernelspec": {
   "display_name": "Python 3 (ipykernel)",
   "language": "python",
   "name": "python3"
  },
  "language_info": {
   "codemirror_mode": {
    "name": "ipython",
    "version": 3
   },
   "file_extension": ".py",
   "mimetype": "text/x-python",
   "name": "python",
   "nbconvert_exporter": "python",
   "pygments_lexer": "ipython3",
   "version": "3.10.5"
  }
 },
 "nbformat": 4,
 "nbformat_minor": 5
}
