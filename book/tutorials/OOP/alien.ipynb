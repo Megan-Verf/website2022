{
 "cells": [
  {
   "cell_type": "markdown",
   "metadata": {},
   "source": [
    "# Try it yourself!"
   ]
  },
  {
   "cell_type": "code",
   "execution_count": 25,
   "metadata": {
    "id": "cLfvUyyxGyXH"
   },
   "outputs": [],
   "source": [
    "class Alien:\n",
    "  def __init__(self, name):\n",
    "    self.name = name\n",
    "    self.energy = 10\n",
    "\n",
    "  def move(self, steps=1):\n",
    "    if self.energy < steps:\n",
    "      print(\"I don't have the energy to move that far\")\n",
    "    else:\n",
    "      self.energy -= steps\n",
    "  \n",
    "  def sleep(self):\n",
    "    self.energy = 10\n"
   ]
  },
  {
   "cell_type": "code",
   "execution_count": 69,
   "metadata": {
    "id": "fwb0mHZPHOdW"
   },
   "outputs": [],
   "source": [
    "class MyAlien(Alien): # give your alien a unique name\n",
    "  def __init__(self, name):\n",
    "      super().__init__(name)\n",
    "      # define two more attributes your alien has\n",
    "  \n",
    "  # think of a unique way to display your alien's attributes\n",
    "  def __str__(self):\n",
    "      s = 'We are the {0}'.format(self.name)\n",
    "      return s\n",
    "\n",
    "\n",
    "  # think of two new actions your alien can do\n",
    "  def worlddomination(self, level):\n",
    "    if self.energy < level: \n",
    "        print('Invasion Failed')\n",
    "    else: \n",
    "        self.energy >= level\n",
    "        self.energy -= level\n",
    "        print('You Will be Upgraded') \n",
    "    \n",
    "    pass\n",
    "  \n",
    "  def flee(self):\n",
    "    if self.energy == 0:\n",
    "        print('Return to the Ship')\n",
    "    elif self.energy > 0: \n",
    "        print('Prepare for Invasion') \n",
    "    pass"
   ]
  },
  {
   "cell_type": "code",
   "execution_count": 47,
   "metadata": {
    "id": "w08zITUNIDJ-"
   },
   "outputs": [
    {
     "name": "stdout",
     "output_type": "stream",
     "text": [
      "We are the Cybermen\n",
      "10\n"
     ]
    }
   ],
   "source": [
    "# Use this space to initialize and display a new instance of your alien\n",
    "c = MyAlien('Cybermen')\n",
    "print(c)\n",
    "print(c.energy)"
   ]
  },
  {
   "cell_type": "code",
   "execution_count": 48,
   "metadata": {
    "id": "ipjlZtVwIJrq"
   },
   "outputs": [
    {
     "name": "stdout",
     "output_type": "stream",
     "text": [
      "7\n"
     ]
    }
   ],
   "source": [
    "# have your alien move some distance\n",
    "c.move(3)\n",
    "# display their new energy level\n",
    "print(c.energy)"
   ]
  },
  {
   "cell_type": "code",
   "execution_count": 49,
   "metadata": {
    "id": "dLt6t_n4INJ0"
   },
   "outputs": [
    {
     "name": "stdout",
     "output_type": "stream",
     "text": [
      "10\n"
     ]
    }
   ],
   "source": [
    "# have your alien sleep\n",
    "c.sleep()\n",
    "# display their new energy level\n",
    "print(c.energy)"
   ]
  },
  {
   "cell_type": "code",
   "execution_count": 70,
   "metadata": {
    "id": "OZt8KJvJIPlU"
   },
   "outputs": [
    {
     "name": "stdout",
     "output_type": "stream",
     "text": [
      "1\n"
     ]
    }
   ],
   "source": [
    "# use this space to have your alien perform the first new action\n",
    "c.worlddomination(1)\n",
    "# did any attributes change?\n",
    "print(c.energy)"
   ]
  },
  {
   "cell_type": "code",
   "execution_count": 60,
   "metadata": {
    "id": "4PuSCcWgIWo1"
   },
   "outputs": [
    {
     "name": "stdout",
     "output_type": "stream",
     "text": [
      "Prepare for Invasion\n",
      "5\n"
     ]
    }
   ],
   "source": [
    "# use this space to have your alien perform the second new action\n",
    "c.flee()\n",
    "# did any attributes change?\n",
    "print(c.energy)"
   ]
  },
  {
   "cell_type": "code",
   "execution_count": null,
   "metadata": {},
   "outputs": [],
   "source": []
  }
 ],
 "metadata": {
  "colab": {
   "name": "alien.ipynb",
   "provenance": []
  },
  "kernelspec": {
   "display_name": "Python 3 (ipykernel)",
   "language": "python",
   "name": "python3"
  },
  "language_info": {
   "codemirror_mode": {
    "name": "ipython",
    "version": 3
   },
   "file_extension": ".py",
   "mimetype": "text/x-python",
   "name": "python",
   "nbconvert_exporter": "python",
   "pygments_lexer": "ipython3",
   "version": "3.10.5"
  }
 },
 "nbformat": 4,
 "nbformat_minor": 4
}
